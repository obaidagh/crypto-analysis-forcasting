{
 "cells": [
  {
   "cell_type": "code",
   "execution_count": 2,
   "metadata": {},
   "outputs": [],
   "source": [
    "import requests\n",
    "import os\n",
    "import pandas as pd\n",
    "import time\n",
    "import json\n",
    "import math\n"
   ]
  },
  {
   "cell_type": "code",
   "execution_count": 3,
   "metadata": {},
   "outputs": [],
   "source": [
    "def flatten_dict(my_dict):\n",
    "    result = {}\n",
    "    for key, value in my_dict.items():\n",
    "        if isinstance(value, dict):\n",
    "            result.update(flatten_dict(value))\n",
    "        else:\n",
    "            result[key] = value \n",
    "    return result"
   ]
  },
  {
   "cell_type": "code",
   "execution_count": 13,
   "metadata": {},
   "outputs": [],
   "source": [
    "def coin_historical_data(symbol,end_time=int(time.time()),period='hourly',start_time=1367107200):\n",
    "    # in coinmarketcap api \"The current query limit is 10000 items\"\n",
    "    # so we have to divide the request into queries with size of 10000\n",
    "\n",
    "    no_requests = (end_time - start_time)/(3600 *10000) #3600 for 1 h ,10000 for query limit\n",
    "    quote_list=[]\n",
    "\n",
    "    for i in range(math.ceil(no_requests)):\n",
    "        start= start_time+(36000000*i)\n",
    "        end = start_time+(36000000*(i+1))\n",
    "        end = end if end < end_time else end_time\n",
    "        #print(f\"{i}, {time.asctime(time.gmtime(start))}, {time.asctime(time.gmtime(end))}\")\n",
    "\n",
    "        request_link = f\"https://web-api.coinmarketcap.com/v1/cryptocurrency/ohlcv/historical?symbol={symbol}&time_end={end}&time_start={start}&time_period={period}\"\n",
    "        \n",
    "        r = requests.get(url =request_link)\n",
    "        r = r.json()\n",
    "        quote_list.extend(r['data']['quotes'])\n",
    "\n",
    "    h = list(map(flatten_dict, quote_list))\n",
    "    \n",
    "    df = pd.DataFrame(h)\n",
    "    df[\"time\"] = pd.to_datetime(df[\"time_open\"],utc=None).dt.date\n",
    "    df.drop(['time_close', 'time_low',\"time_high\",\"high\",\"low\"\t,\"timestamp\",\"time_open\"], axis = 1, inplace = True)\n",
    "    df.set_index(\"time\",inplace=True)\n",
    "    df.fillna(0,inplace=True)\n",
    "    return df\n"
   ]
  },
  {
   "cell_type": "code",
   "execution_count": 14,
   "metadata": {},
   "outputs": [],
   "source": [
    "h=coin_historical_data(symbol=\"MATIC\",end_time=int(time.time()),period='hourly',start_time=1367107200)"
   ]
  },
  {
   "cell_type": "code",
   "execution_count": 17,
   "metadata": {},
   "outputs": [
    {
     "data": {
      "text/plain": [
       "2.876459494002124"
      ]
     },
     "execution_count": 17,
     "metadata": {},
     "output_type": "execute_result"
    }
   ],
   "source": [
    "h[\"open\"].max()"
   ]
  },
  {
   "cell_type": "code",
   "execution_count": null,
   "metadata": {},
   "outputs": [],
   "source": []
  }
 ],
 "metadata": {
  "kernelspec": {
   "display_name": "Python 3 (ipykernel)",
   "language": "python",
   "name": "python3"
  },
  "language_info": {
   "codemirror_mode": {
    "name": "ipython",
    "version": 3
   },
   "file_extension": ".py",
   "mimetype": "text/x-python",
   "name": "python",
   "nbconvert_exporter": "python",
   "pygments_lexer": "ipython3",
   "version": "3.10.6"
  },
  "vscode": {
   "interpreter": {
    "hash": "dc7653180147e129bc92291fb6d46a9c9edf152edba7a055b677a70d45a67a23"
   }
  }
 },
 "nbformat": 4,
 "nbformat_minor": 4
}
